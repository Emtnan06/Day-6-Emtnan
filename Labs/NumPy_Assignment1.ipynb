{
 "cells": [
  {
   "cell_type": "code",
   "execution_count": 240,
   "id": "212fd1ba",
   "metadata": {},
   "outputs": [],
   "source": [
    "import numpy as np"
   ]
  },
  {
   "cell_type": "markdown",
   "id": "10803eb0",
   "metadata": {},
   "source": [
    "## Q#1: Create x array with elements equal to 1."
   ]
  },
  {
   "cell_type": "code",
   "execution_count": 241,
   "id": "3307454f",
   "metadata": {},
   "outputs": [
    {
     "data": {
      "text/plain": [
       "array([1., 1., 1., 1., 1., 1., 1., 1., 1., 1., 1.])"
      ]
     },
     "execution_count": 241,
     "metadata": {},
     "output_type": "execute_result"
    }
   ],
   "source": [
    "\n",
    "x = np.ones(11)\n",
    "x"
   ]
  },
  {
   "cell_type": "markdown",
   "id": "7795306d",
   "metadata": {},
   "source": [
    "## Q#2: Create y array with elements equal to 0."
   ]
  },
  {
   "cell_type": "code",
   "execution_count": 242,
   "id": "9550b063",
   "metadata": {},
   "outputs": [
    {
     "data": {
      "text/plain": [
       "array([0., 0., 0., 0., 0., 0., 0., 0., 0., 0., 0.])"
      ]
     },
     "execution_count": 242,
     "metadata": {},
     "output_type": "execute_result"
    }
   ],
   "source": [
    "y = np.zeros(11)\n",
    "y"
   ]
  },
  {
   "cell_type": "markdown",
   "id": "cde6a939",
   "metadata": {},
   "source": [
    "## Q#3: Add x and y arrays."
   ]
  },
  {
   "cell_type": "code",
   "execution_count": 243,
   "id": "71070d1d",
   "metadata": {},
   "outputs": [
    {
     "data": {
      "text/plain": [
       "array([1., 1., 1., 1., 1., 1., 1., 1., 1., 1., 1.])"
      ]
     },
     "execution_count": 243,
     "metadata": {},
     "output_type": "execute_result"
    }
   ],
   "source": [
    "add = x + y\n",
    "add"
   ]
  },
  {
   "cell_type": "markdown",
   "id": "ed854f4c",
   "metadata": {},
   "source": [
    "## Q#4: Print x array characteristics (e.g: dimension, shape, size, type)."
   ]
  },
  {
   "cell_type": "code",
   "execution_count": 244,
   "id": "1afda1ad",
   "metadata": {},
   "outputs": [
    {
     "name": "stdout",
     "output_type": "stream",
     "text": [
      "The dimension of x  1\n"
     ]
    }
   ],
   "source": [
    "print (\"The dimension of x \" , x.ndim)"
   ]
  },
  {
   "cell_type": "code",
   "execution_count": 245,
   "id": "200aa387",
   "metadata": {},
   "outputs": [
    {
     "name": "stdout",
     "output_type": "stream",
     "text": [
      "The shape of x  (11,)\n"
     ]
    }
   ],
   "source": [
    " print (\"The shape of x \" , x.shape)\n"
   ]
  },
  {
   "cell_type": "code",
   "execution_count": 246,
   "id": "39b8b036",
   "metadata": {},
   "outputs": [
    {
     "name": "stdout",
     "output_type": "stream",
     "text": [
      "The size of x  11\n"
     ]
    }
   ],
   "source": [
    " print (\"The size of x \" , x.size)"
   ]
  },
  {
   "cell_type": "code",
   "execution_count": 247,
   "id": "27871d3a",
   "metadata": {},
   "outputs": [
    {
     "name": "stdout",
     "output_type": "stream",
     "text": [
      "The type of x  float64\n"
     ]
    }
   ],
   "source": [
    " print (\"The type of x \" , x.dtype)"
   ]
  },
  {
   "cell_type": "markdown",
   "id": "dbd46a73",
   "metadata": {},
   "source": [
    "## Q#5: Create a 2D array \"called w\" as the following:\n",
    "\n",
    "|       |          |\n",
    "| ----- | -------- |\n",
    "| 11    | 12       |\n",
    "| 13    | 14       |\n",
    "| 15    | 16       |\n"
   ]
  },
  {
   "cell_type": "code",
   "execution_count": 248,
   "id": "b9c7bbb0",
   "metadata": {},
   "outputs": [
    {
     "data": {
      "text/plain": [
       "array([[11, 12],\n",
       "       [13, 14],\n",
       "       [15, 16]])"
      ]
     },
     "execution_count": 248,
     "metadata": {},
     "output_type": "execute_result"
    }
   ],
   "source": [
    "w = np.array([[11,12],[13,14],[15,16]])\n",
    "w"
   ]
  },
  {
   "cell_type": "code",
   "execution_count": 249,
   "id": "a867414c",
   "metadata": {},
   "outputs": [
    {
     "data": {
      "text/plain": [
       "2"
      ]
     },
     "execution_count": 249,
     "metadata": {},
     "output_type": "execute_result"
    }
   ],
   "source": [
    "w.ndim"
   ]
  },
  {
   "cell_type": "markdown",
   "id": "0e62bd09",
   "metadata": {},
   "source": [
    "## Q#6: Create z array contains the numbers from 1 to 3."
   ]
  },
  {
   "cell_type": "code",
   "execution_count": 250,
   "id": "cee8aba0",
   "metadata": {},
   "outputs": [],
   "source": [
    "z = np.arange(1, 4)"
   ]
  },
  {
   "cell_type": "code",
   "execution_count": 251,
   "id": "ee32f882",
   "metadata": {},
   "outputs": [
    {
     "data": {
      "text/plain": [
       "1"
      ]
     },
     "execution_count": 251,
     "metadata": {},
     "output_type": "execute_result"
    }
   ],
   "source": [
    "z.ndim\n"
   ]
  },
  {
   "cell_type": "markdown",
   "id": "32b00711",
   "metadata": {},
   "source": [
    "## Q#7: Combine the arrays z and w in horizontal way then save it in a new variable \"newArray\"."
   ]
  },
  {
   "cell_type": "code",
   "execution_count": 252,
   "id": "d218f892",
   "metadata": {},
   "outputs": [
    {
     "data": {
      "text/plain": [
       "array([[ 1, 11, 12],\n",
       "       [ 2, 13, 14],\n",
       "       [ 3, 15, 16]])"
      ]
     },
     "execution_count": 252,
     "metadata": {},
     "output_type": "execute_result"
    }
   ],
   "source": [
    "reshapeZ= z.reshape(-1,1)\n",
    "newArray = np.hstack((reshapeZ,w))\n",
    "newArray"
   ]
  },
  {
   "cell_type": "markdown",
   "id": "7e009910",
   "metadata": {},
   "source": [
    "## Q#8: Print all elements of \"newArray\" using the loop."
   ]
  },
  {
   "cell_type": "code",
   "execution_count": 253,
   "id": "abbed923",
   "metadata": {},
   "outputs": [
    {
     "name": "stdout",
     "output_type": "stream",
     "text": [
      "1\n",
      "11\n",
      "12\n",
      "2\n",
      "13\n",
      "14\n",
      "3\n",
      "15\n",
      "16\n"
     ]
    }
   ],
   "source": [
    "for row in newArray :\n",
    "    for number in row:\n",
    "        print(number)\n"
   ]
  },
  {
   "cell_type": "markdown",
   "id": "011c6d2d",
   "metadata": {},
   "source": [
    "## Q#9: Reverse the columns and rows of \"newArray\"."
   ]
  },
  {
   "cell_type": "code",
   "execution_count": 254,
   "id": "12e3f0db",
   "metadata": {},
   "outputs": [
    {
     "data": {
      "text/plain": [
       "array([[16, 15,  3],\n",
       "       [14, 13,  2],\n",
       "       [12, 11,  1]])"
      ]
     },
     "execution_count": 254,
     "metadata": {},
     "output_type": "execute_result"
    }
   ],
   "source": [
    "reverseArray = newArray[::-1, ::-1]  \n",
    "reverseArray"
   ]
  },
  {
   "cell_type": "markdown",
   "id": "f40b57c3",
   "metadata": {},
   "source": [
    "## Q#10: Decrement all elements of \"newArray\" with 1."
   ]
  },
  {
   "cell_type": "code",
   "execution_count": 255,
   "id": "aea004df",
   "metadata": {},
   "outputs": [
    {
     "data": {
      "text/plain": [
       "array([[ 0, 10, 11],\n",
       "       [ 1, 12, 13],\n",
       "       [ 2, 14, 15]])"
      ]
     },
     "execution_count": 255,
     "metadata": {},
     "output_type": "execute_result"
    }
   ],
   "source": [
    "DecrementArray = newArray - 1\n",
    "DecrementArray"
   ]
  },
  {
   "cell_type": "markdown",
   "id": "8901e8be",
   "metadata": {},
   "source": [
    "## Q#11: Find smallest and biggest values in \"newArray\"."
   ]
  },
  {
   "cell_type": "code",
   "execution_count": 256,
   "id": "4ea08613",
   "metadata": {},
   "outputs": [
    {
     "name": "stdout",
     "output_type": "stream",
     "text": [
      "Smallest value: 1\n"
     ]
    }
   ],
   "source": [
    "smallest = newArray.min()  \n",
    "print (\"Smallest value:\" , smallest)\n"
   ]
  },
  {
   "cell_type": "code",
   "execution_count": 257,
   "id": "c8284bbc",
   "metadata": {},
   "outputs": [
    {
     "name": "stdout",
     "output_type": "stream",
     "text": [
      "Biggest value: 16\n"
     ]
    }
   ],
   "source": [
    "biggest = newArray.max()\n",
    "print (\"Biggest value:\" , biggest)"
   ]
  },
  {
   "cell_type": "markdown",
   "id": "c5d5d4ca",
   "metadata": {},
   "source": [
    "## Q#12: Print the first row of \"newArray\" using indexing."
   ]
  },
  {
   "cell_type": "code",
   "execution_count": 258,
   "id": "73e3b5a5",
   "metadata": {},
   "outputs": [
    {
     "name": "stdout",
     "output_type": "stream",
     "text": [
      "[ 1 11 12]\n"
     ]
    }
   ],
   "source": [
    "print(newArray[0]) \n"
   ]
  },
  {
   "cell_type": "markdown",
   "id": "78f4d6c1",
   "metadata": {},
   "source": [
    "## Q#13: Print the number equals 12 of \"newArray\" using indexing."
   ]
  },
  {
   "cell_type": "code",
   "execution_count": 259,
   "id": "7ad660b7",
   "metadata": {},
   "outputs": [
    {
     "name": "stdout",
     "output_type": "stream",
     "text": [
      "12\n"
     ]
    }
   ],
   "source": [
    "print(DecrementArray[1,1]) "
   ]
  },
  {
   "cell_type": "markdown",
   "id": "932b5c3d",
   "metadata": {},
   "source": [
    "## Q#14: Print the numbers equal 0 and 13 of \"newArray\" using indexing."
   ]
  },
  {
   "cell_type": "code",
   "execution_count": 260,
   "id": "31fb5fd0",
   "metadata": {},
   "outputs": [
    {
     "name": "stdout",
     "output_type": "stream",
     "text": [
      "number 0 :  0\n"
     ]
    }
   ],
   "source": [
    "print(\"number 0 : \",DecrementArray[0,0]) "
   ]
  },
  {
   "cell_type": "code",
   "execution_count": 261,
   "id": "846b1153",
   "metadata": {},
   "outputs": [
    {
     "name": "stdout",
     "output_type": "stream",
     "text": [
      "number 13 :  13\n"
     ]
    }
   ],
   "source": [
    "print(\"number 13 : \" ,DecrementArray[1,2]) "
   ]
  },
  {
   "cell_type": "markdown",
   "id": "27e0f68e",
   "metadata": {},
   "source": [
    "## Q#15: Change the shape of \"newArray\" to (9,1)."
   ]
  },
  {
   "cell_type": "code",
   "execution_count": 262,
   "id": "35f224ad",
   "metadata": {},
   "outputs": [
    {
     "data": {
      "text/plain": [
       "array([[ 0],\n",
       "       [10],\n",
       "       [11],\n",
       "       [ 1],\n",
       "       [12],\n",
       "       [13],\n",
       "       [ 2],\n",
       "       [14],\n",
       "       [15]])"
      ]
     },
     "execution_count": 262,
     "metadata": {},
     "output_type": "execute_result"
    }
   ],
   "source": [
    "reshapenewArray = DecrementArray.reshape(9,1)\n",
    "reshapenewArray"
   ]
  },
  {
   "cell_type": "code",
   "execution_count": 263,
   "id": "8a8f5cdc",
   "metadata": {},
   "outputs": [
    {
     "data": {
      "text/plain": [
       "2"
      ]
     },
     "execution_count": 263,
     "metadata": {},
     "output_type": "execute_result"
    }
   ],
   "source": [
    "reshapenewArray.ndim"
   ]
  },
  {
   "cell_type": "markdown",
   "id": "e6d104c5",
   "metadata": {},
   "source": [
    "## Q#16: Change the shape of \"newArray\" to (3,2)."
   ]
  },
  {
   "cell_type": "code",
   "execution_count": 265,
   "id": "724d51d5",
   "metadata": {},
   "outputs": [
    {
     "name": "stdout",
     "output_type": "stream",
     "text": [
      "[[ 1 11]\n",
      " [12  2]\n",
      " [13 14]]\n"
     ]
    }
   ],
   "source": [
    "reshaped3 = newArray.flatten()[:6].reshape(3,2)\n",
    "print(reshaped3)\n"
   ]
  },
  {
   "cell_type": "markdown",
   "id": "09567fdc",
   "metadata": {},
   "source": [
    "# Well Done 🎉"
   ]
  }
 ],
 "metadata": {
  "kernelspec": {
   "display_name": "Python 3",
   "language": "python",
   "name": "python3"
  },
  "language_info": {
   "codemirror_mode": {
    "name": "ipython",
    "version": 3
   },
   "file_extension": ".py",
   "mimetype": "text/x-python",
   "name": "python",
   "nbconvert_exporter": "python",
   "pygments_lexer": "ipython3",
   "version": "3.9.6"
  }
 },
 "nbformat": 4,
 "nbformat_minor": 5
}
